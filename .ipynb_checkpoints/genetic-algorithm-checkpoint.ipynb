{
 "cells": [
  {
   "cell_type": "markdown",
   "metadata": {
    "_uuid": "c611464ff91a31c83c0de834f9785b91c4eabdd7"
   },
   "source": [
    "## Genetic algorithm\n",
    "The Genetic Algorithm is a computational approximation to how evolution performs search,\n",
    "which is by producing modifications of the parent genomes in their offspring and thus\n",
    "producing new individuals with different fitness. Like another mathematical model that we\n",
    "saw earlier in the book—the neuron—it attempts to abstract away everything except the\n",
    "important parts that we need to understand what evolution does. From this principle, the\n",
    "things that we need to model simple genetics inside a computer and solve problems with it\n",
    "are:\n",
    "*  a method for representing problems as chromosomes.\n",
    "*  a way to calculate the fitness of a solution.\n",
    "*  a selection method to choose parents.\n",
    "*  a way to generate offspring by breeding the parents.\n",
    "\n",
    "These items are all described in the following sections, and the basic algorithm is described.\n",
    "We are going to use an example to describe the methods, which is a simple problem from\n",
    "the book referenced above (Problem 10.3). Here is a description of the problem:\n",
    "\n",
    "> You have [X] MP3 files sitting on your computer’s hard disk. Unfortunately,\n",
    "> the hard disk has started making noises, and you decide that you had better\n",
    "> back up the MP3s. Equally unfortunately, you can only burn CDs, not DVDs, on your\n",
    "> computer. You need to minimise the number of CDs that you use, so you decide to\n",
    "> design a genetic algorithm to choose which MP3s to put onto each CD in order to fill\n",
    "> each CD as completely as possible.\n",
    "> Design a genetic algorithm to solve the problem. You will need to consider how you\n",
    "> would encode the inputs, which genetic operators are suitable, and how you would\n",
    "> make the genetic algorithm deal with the fact that you have multiple CDs, not just\n",
    "> one CD.\n"
   ]
  },
  {
   "cell_type": "markdown",
   "metadata": {
    "_uuid": "e82b646d7b5aa29e3d3479e8f4f41f9a90f48cdc"
   },
   "source": [
    "The first thing we need to look at is a way to represent the problem as chromosomes. Since we have [X] number of files, we can construct a binary chromosome where 1 means this particular MP3 is taken in the chromosome while 0 means it's not. The position of this bit will index which MP3 we are going to start with."
   ]
  },
  {
   "cell_type": "markdown",
   "metadata": {
    "_uuid": "cbb6159099dc524f94f75fafdf2352c3e0ad07a3"
   },
   "source": [
    "Next up, we need to make a function to calculate the fitness of a possible solution. We do that by calculating the total size of MP3s taken into the particular solution (chromosome) and multiplying that by -1. The -1 sign ensures that the highest size is sorted at the top when using data structures that sort in ascending order. We will assume that the maximum size of a CD is 700 MB for simplicity in this solution. Given that, we also need a method of \"fixing\" a chromosome that has a fitness function result of over 700. This can be achieved by randomly deselecting MP3s from the chromosome until it's total file size drops below the 700 MB mark"
   ]
  },
  {
   "cell_type": "markdown",
   "metadata": {
    "_uuid": "2b6b171d6b5dc8600833de79df3a65383079163e"
   },
   "source": [
    "Next we need a selection method to choose the parents. For this we are going to randomly generate parent chromosomes"
   ]
  },
  {
   "cell_type": "markdown",
   "metadata": {
    "_uuid": "3d0983e6481935669e7392f452590ed78e394b35"
   },
   "source": [
    "Finally, we need a crossover function that can be used to breed new chilrden from selected parents. Let's start looking at the code and process our functions one at a time"
   ]
  },
  {
   "cell_type": "code",
   "execution_count": 1,
   "metadata": {
    "_uuid": "1eead8e00063e33a83a8511f260160b86abd3ce3"
   },
   "outputs": [],
   "source": [
    "import numpy as np\n",
    "import random"
   ]
  },
  {
   "cell_type": "code",
   "execution_count": 2,
   "metadata": {
    "_uuid": "c87a20d46aaf8342f26b74c8230cec8cca214ef0"
   },
   "outputs": [],
   "source": [
    "def generateParents(size):\n",
    "    parents = np.array(random.randint(0, 2**size - 1))\n",
    "    for i in range(1, population):\n",
    "        parents = np.append(parents, random.randint(0, 2**size - 1))\n",
    "    return parents"
   ]
  },
  {
   "cell_type": "markdown",
   "metadata": {
    "_uuid": "a227315634f29530ccaa6465d4c5c65638c88f33"
   },
   "source": [
    "**generateParents** is our parent generation function. Since it's the simplest to do, we will do it first. population will hold the total number of offsprings each generation will hold and for the first generation, it will be the total number of randomly generated parents.\n",
    "size holds the current total number of MP3s being processed."
   ]
  },
  {
   "cell_type": "code",
   "execution_count": 3,
   "metadata": {
    "_uuid": "d399ea515e1f2a0cc61b94194d4aa2e76d965be1"
   },
   "outputs": [],
   "source": [
    "def totalSize(data, size):\n",
    "    s = 0\n",
    "    for i in range(0, size-1):\n",
    "        if(data & (1 << i) > 0):\n",
    "            s += mp3s[i]\n",
    "    return s\n"
   ]
  },
  {
   "cell_type": "markdown",
   "metadata": {
    "_uuid": "08face29c0848de524eaede514eeb5f5f28b7f1c"
   },
   "source": [
    "**totalSize** is a simple function that measures the total space used by all selected MP3s in this particular chromosome (data). size holds the current total number of MP3s being processed. For every bit in the chromosome, we check if it's one and if so, we increment s by the size of the MP3 file corresponding to this bit."
   ]
  },
  {
   "cell_type": "code",
   "execution_count": 4,
   "metadata": {
    "_uuid": "a69a25a3ad2c5dd9ee238c4a0fe84353fe9d2e73"
   },
   "outputs": [],
   "source": [
    "def reduceSize(rec, size):\n",
    "    while totalSize(rec, size) > 700:\n",
    "        index = random.randint(0, size - 1)\n",
    "        if(rec & (1 << index) > 0):\n",
    "            rec = rec ^ (1 << index)\n",
    "    return rec"
   ]
  },
  {
   "cell_type": "markdown",
   "metadata": {
    "_uuid": "d252e1799dc7aa51c8f997736609f408a5082fb5"
   },
   "source": [
    "**reduceSize** is the function we use to randomly mutate the chromosome in a way that reduces the total size of the MP3 files described by this chromosome to fit on one CD. so as long as the totalSize of the chromosome exceeds 700, we pick a random bit and if it's 1, we change it to 0."
   ]
  },
  {
   "cell_type": "code",
   "execution_count": 5,
   "metadata": {
    "_uuid": "3b3e93f5bd9b68d045ace542c302a1cf2d7afc89"
   },
   "outputs": [],
   "source": [
    "def mutate(rec, size):\n",
    "    index = random.randint(0, size - 1)\n",
    "    rec = rec ^ (1 << index)\n",
    "    return rec"
   ]
  },
  {
   "cell_type": "markdown",
   "metadata": {
    "_uuid": "780566e9fbd23072c5b352bff7f83ea548e43799"
   },
   "source": [
    "**mutate** is our mutation function. Mutations happen in real life when new offsprings are created, usually mutations would have a mutation rate, but we are omitting that in this tutorial for simplicity. Our mutation function randomly picks a bit and toggles it's value."
   ]
  },
  {
   "cell_type": "code",
   "execution_count": 6,
   "metadata": {
    "_uuid": "cf40a38e397ac65ddecc17237790d5f621356497"
   },
   "outputs": [],
   "source": [
    "def fixChromosomes(data, size, population):\n",
    "    datasize = data.shape[0]\n",
    "    fitness = np.zeros((datasize,1), dtype=int)\n",
    "    for i in range(0, datasize):\n",
    "        rec = data[i]\n",
    "        if(totalSize(rec, size) > 700):\n",
    "            rec = reduceSize(rec, size)\n",
    "            data[i] = rec\n",
    "        fitness[i] = -1* totalSize(data[i], size)\n",
    "    data = np.transpose(np.array([data]))\n",
    "    generation = np.concatenate((data, fitness), axis=1)\n",
    "    generation = generation[generation[:population, 1].argsort()]\n",
    "    return generation"
   ]
  },
  {
   "cell_type": "markdown",
   "metadata": {
    "_uuid": "973bf17b81aae95e9843dbf240f4a7c9ef4c79a8"
   },
   "source": [
    "f**ixChromosomes** this function takes the current generation (data) and applies the reduceSize function on chromosomes where necessary. It also applies the fitness function and adds that to the generation data so that each chromosome has a corresponding fitness. This is also sorted so that the ones on top have the highest fitness (remember the -1 sign)"
   ]
  },
  {
   "cell_type": "code",
   "execution_count": 7,
   "metadata": {
    "_uuid": "976cc03ec9ecc33ada777a947e391353554e4ae9"
   },
   "outputs": [],
   "source": [
    "def crossover(mom, dad, size):\n",
    "    index = random.randint(1, size - 1)\n",
    "    mom1 = mom & (2**index -1)\n",
    "    mom2 = mom & ((2**(size-index) -1) << index)\n",
    "    dad1 = dad & (2**index -1)\n",
    "    dad2 = dad & ((2**(size-index) -1) << index)\n",
    "    return mutate(mom1|dad2, size), mutate(dad1|mom2, size)"
   ]
  },
  {
   "cell_type": "markdown",
   "metadata": {
    "_uuid": "c490f7a5dd047014465a1f7ad9f61d311a628cdb"
   },
   "source": [
    "**crossover** this function takes 2 parents and does a random crossover between their chromosomes. It picks a random index i and splits both mom and dad on the ith index then cross combines both of them to generate 2 children. Those children are then mutated through the mutation function"
   ]
  },
  {
   "cell_type": "code",
   "execution_count": 8,
   "metadata": {
    "_uuid": "60763ad1a4570cf961a00b887f3ea616e5ca0a21"
   },
   "outputs": [],
   "source": [
    "def newGeneration(generation, size):\n",
    "    top4 = generation[:4, 0]\n",
    "    newGen = generation[:2,0]\n",
    "    for i in range(0, 4):\n",
    "        for j in range(0, 4):\n",
    "            if(i != j):\n",
    "                c1, c2 = crossover(top4[i], top4[j], size)\n",
    "                newGen = np.append(newGen, c1)\n",
    "                newGen = np.append(newGen, c2)\n",
    "                #print(newGen)\n",
    "    return newGen"
   ]
  },
  {
   "cell_type": "markdown",
   "metadata": {
    "_uuid": "f383e6dc15d6b666a4f708c1c0924ce4ba2c5279"
   },
   "source": [
    "**newGeneration** is the function that takes the current generation and produces the next generation from it. This is done by taking the top 4 parents fitness wise and crossing over every pair of them to generate new offsprings. However due to the particular setup of the problem, we are very likely to have a near optimal solution straight out of the first generation due to randomness and our reduction function. Because of this, we can add back the top 2 parents into the new generation to ensure that we do not lose any optimal results that are created in previous generations."
   ]
  },
  {
   "cell_type": "code",
   "execution_count": 9,
   "metadata": {
    "_uuid": "2eb83d6fd3aeae7133cac2247dd9e5e8052aeb5f"
   },
   "outputs": [],
   "source": [
    "def train(mp3Cnt, mp3s, population, generationsPerCD):\n",
    "    curCD = 1\n",
    "    combinedSizes = totalSize(2**mp3Cnt-1, mp3Cnt)\n",
    "    doneSizes = 0.0\n",
    "    while(True):\n",
    "        if(mp3Cnt == 0):\n",
    "            break\n",
    "        parents = generateParents(mp3Cnt)\n",
    "        generation = fixChromosomes(parents, mp3Cnt, population)\n",
    "        ng = generation\n",
    "        for i in range(generationsPerCD):\n",
    "            ng = newGeneration(ng, mp3Cnt)\n",
    "            ng = fixChromosomes(ng, mp3Cnt, population)\n",
    "        allFileSize = totalSize(2**mp3Cnt-1, mp3Cnt)\n",
    "        cdContents = ng[0,0]\n",
    "        if(allFileSize < 700):\n",
    "            cdContents = 2**mp3Cnt -1\n",
    "        currentBestCDSize = totalSize(cdContents, mp3Cnt)\n",
    "        if(currentBestCDSize >= 699 or allFileSize < 700):\n",
    "            indexesToRemove = []\n",
    "            for i in range(0, mp3Cnt):\n",
    "                if(cdContents & (1 << i) > 0):\n",
    "                    indexesToRemove.append(i)\n",
    "            indexesToRemove = list(reversed(indexesToRemove))\n",
    "            doneSizes += currentBestCDSize\n",
    "            print(\"CD\"+ str(curCD) + \": MP3 Count:\" + str(len(indexesToRemove)) + \" Size: \" + str(currentBestCDSize))\n",
    "            mp3Cnt = mp3Cnt - len(indexesToRemove)\n",
    "            for i in range(len(indexesToRemove)):\n",
    "                mp3s = np.delete(mp3s, indexesToRemove[i])\n",
    "            curCD = curCD + 1\n",
    "        else:\n",
    "            continue"
   ]
  },
  {
   "cell_type": "markdown",
   "metadata": {
    "_uuid": "2721633181f2a3b61745f0d90de4b97be5c7e5ca"
   },
   "source": [
    "**train** function is where everything is pieces together. mp3Cnt holds the total number of MP3 files that have not yet been classified into a CD. every time we process generation cycle we come up with a chromosome that best fits the current CD we are working on. So once that's done and we are satisfied with the result we have gotten, we can produce the required CD (in this case print it) and remove all those MP3s from the mp3s list and update mp3Cnt accordingly. Running this in a loop until mp3Cnt reaches 0 will ensure that all the MP3 files have been processed and appropriate CDs have been generated."
   ]
  },
  {
   "cell_type": "code",
   "execution_count": 10,
   "metadata": {
    "_uuid": "4e5078c5d84747b780a17ed867902cf783a8d6f1"
   },
   "outputs": [
    {
     "name": "stdout",
     "output_type": "stream",
     "text": [
      "CD1: MP3 Count:17 Size: [699.70599304]\n",
      "CD2: MP3 Count:17 Size: [699.39327492]\n",
      "CD3: MP3 Count:13 Size: [699.80380456]\n",
      "CD4: MP3 Count:17 Size: [699.09718248]\n",
      "CD5: MP3 Count:16 Size: [699.59580784]\n",
      "CD6: MP3 Count:13 Size: [699.13066754]\n",
      "CD7: MP3 Count:7 Size: [261.81921974]\n"
     ]
    }
   ],
   "source": [
    "population = 10\n",
    "mp3Cnt = 100\n",
    "generationsPerCD = 3\n",
    "maxFileSize = 100\n",
    "mp3s = maxFileSize*np.random.rand(mp3Cnt, 1)\n",
    "\n",
    "train(mp3Cnt, mp3s, population, generationsPerCD)"
   ]
  }
 ],
 "metadata": {
  "kernelspec": {
   "display_name": "Python 3",
   "language": "python",
   "name": "python3"
  },
  "language_info": {
   "codemirror_mode": {
    "name": "ipython",
    "version": 3
   },
   "file_extension": ".py",
   "mimetype": "text/x-python",
   "name": "python",
   "nbconvert_exporter": "python",
   "pygments_lexer": "ipython3",
   "version": "3.7.3"
  }
 },
 "nbformat": 4,
 "nbformat_minor": 1
}
