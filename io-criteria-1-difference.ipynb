{
 "cells": [
  {
   "cell_type": "code",
<<<<<<< HEAD
   "execution_count": 3,
=======
   "execution_count": 137,
>>>>>>> 7b837112b772c75ea3fa3bf138fe198c5d88afb7
   "metadata": {},
   "outputs": [],
   "source": [
    "from sklearn import datasets # iris\n",
    "from sklearn.neighbors import KNeighborsClassifier\n",
    "from sklearn.model_selection import GridSearchCV\n",
    "from random import randint\n",
    "from math import ceil\n",
    "\n",
    "from IPython.display import HTML, display\n",
    "\n",
    "from copy import copy\n",
    "import random\n",
    "import os\n",
    "\n",
    "from copy import deepcopy\n",
    "from math import ceil\n",
    "\n",
    "import numpy as np\n",
    "from matplotlib import pyplot as plt"
   ]
  },
  {
   "cell_type": "markdown",
   "metadata": {},
   "source": [
    "# Data loading and its structure"
   ]
  },
  {
   "cell_type": "code",
<<<<<<< HEAD
   "execution_count": 4,
=======
   "execution_count": 2,
>>>>>>> 7b837112b772c75ea3fa3bf138fe198c5d88afb7
   "metadata": {},
   "outputs": [
    {
     "name": "stdout",
     "output_type": "stream",
     "text": [
      "Dataset loaded into variable:\t iris\n",
      "\n",
      "Iris keys:\t\t\t ['data', 'target', 'target_names', 'DESCR', 'feature_names', 'filename']\n"
     ]
    }
   ],
   "source": [
    "iris = datasets.load_iris()\n",
    "print(\"Dataset loaded into variable:\\t\", \"iris\")\n",
    "print(\"\\nIris keys:\\t\\t\\t\", list(iris.keys()) )"
   ]
  },
  {
   "cell_type": "code",
<<<<<<< HEAD
   "execution_count": 5,
=======
   "execution_count": 3,
>>>>>>> 7b837112b772c75ea3fa3bf138fe198c5d88afb7
   "metadata": {
    "scrolled": true
   },
   "outputs": [
    {
     "name": "stdout",
     "output_type": "stream",
     "text": [
      "Iris data example:\n",
      "\n",
      " [[5.1 3.5 1.4 0.2]\n",
      " [4.9 3.  1.4 0.2]\n",
      " [4.7 3.2 1.3 0.2]\n",
      " [4.6 3.1 1.5 0.2]]  \n",
      " ...\n",
      "\n",
      "Iris target example:\t\t [0 0 0 0] ...\n",
      "\n",
      "Iris target_names example:\t ['setosa' 'versicolor' 'virginica']\n"
     ]
    }
   ],
   "source": [
    "# Data info structure\n",
    "print(\"Iris data example:\\n\\n\", iris.data[0:4], \" \\n ...\")\n",
    "print(\"\\nIris target example:\\t\\t\", iris.target[0:4], \"...\")\n",
    "print(\"\\nIris target_names example:\\t\", iris.target_names[0:4])"
   ]
  },
  {
   "cell_type": "markdown",
   "metadata": {},
   "source": [
    "# Environment definition"
   ]
  },
  {
   "cell_type": "code",
<<<<<<< HEAD
   "execution_count": 6,
=======
   "execution_count": 4,
>>>>>>> 7b837112b772c75ea3fa3bf138fe198c5d88afb7
   "metadata": {},
   "outputs": [
    {
     "name": "stdout",
     "output_type": "stream",
     "text": [
      "Our environment:\t\t X, Y, l\n"
     ]
    }
   ],
   "source": [
    "print('Our environment:\\t\\t X, Y, l')\n",
    "def start_env():\n",
    "    global X, Y, l\n",
    "    X = iris.data\n",
    "    Y = iris.target\n",
    "    l = len(iris.data)\n",
    "    \n",
    "def start_test_env(n):\n",
    "    global X, Y, l\n",
    "    l = n\n",
    "    X, Y = X[:l], Y[:l]\n",
    "    print('Starting test environment:\\t\\t X, Y,', n)\n",
    "    \n",
    "def end_test_env():\n",
    "    start_env()\n",
    "    print('Ending test environment...')\n",
    "    \n",
    "def testify(test, params, what, exp=''):\n",
    "    print(test, ':\\t\\t\\t\\t', params, '\\t', what, '\\t', '->', exp)\n",
    "    \n",
    "start_env()"
   ]
  },
  {
   "cell_type": "markdown",
   "metadata": {},
   "source": [
    "# List of models generation"
   ]
  },
  {
   "cell_type": "code",
<<<<<<< HEAD
   "execution_count": 7,
=======
   "execution_count": 33,
>>>>>>> 7b837112b772c75ea3fa3bf138fe198c5d88afb7
   "metadata": {},
   "outputs": [],
   "source": [
    "knn_metrics = ['euclidean', 'manhattan', 'chebyshev']\n",
    "knn_neightbors = range(1, 10)\n",
    "\n",
    "models = [KNeighborsClassifier(n_neighbors=n, metric=m) for n in knn_neightbors for m in knn_metrics]\n",
    "models_info = [['KNeighborsClassifier', n, m] for n in knn_neightbors for m in knn_metrics]"
   ]
  },
  {
   "cell_type": "markdown",
   "metadata": {},
   "source": [
    "### Table of our models list"
   ]
  },
  {
   "cell_type": "code",
<<<<<<< HEAD
   "execution_count": 8,
=======
   "execution_count": 34,
>>>>>>> 7b837112b772c75ea3fa3bf138fe198c5d88afb7
   "metadata": {},
   "outputs": [
    {
     "name": "stdout",
     "output_type": "stream",
     "text": [
      "\tclassifier   neightbors  metric\n",
      "\n"
     ]
    },
    {
     "data": {
      "text/plain": [
       "[['KNeighborsClassifier', 1, 'euclidean'],\n",
       " ['KNeighborsClassifier', 1, 'manhattan'],\n",
       " ['KNeighborsClassifier', 1, 'chebyshev'],\n",
       " ['KNeighborsClassifier', 2, 'euclidean'],\n",
       " ['KNeighborsClassifier', 2, 'manhattan'],\n",
       " ['KNeighborsClassifier', 2, 'chebyshev'],\n",
       " ['KNeighborsClassifier', 3, 'euclidean'],\n",
       " ['KNeighborsClassifier', 3, 'manhattan'],\n",
       " ['KNeighborsClassifier', 3, 'chebyshev'],\n",
       " ['KNeighborsClassifier', 4, 'euclidean'],\n",
       " ['KNeighborsClassifier', 4, 'manhattan'],\n",
       " ['KNeighborsClassifier', 4, 'chebyshev'],\n",
       " ['KNeighborsClassifier', 5, 'euclidean'],\n",
       " ['KNeighborsClassifier', 5, 'manhattan'],\n",
       " ['KNeighborsClassifier', 5, 'chebyshev'],\n",
       " ['KNeighborsClassifier', 6, 'euclidean'],\n",
       " ['KNeighborsClassifier', 6, 'manhattan'],\n",
       " ['KNeighborsClassifier', 6, 'chebyshev'],\n",
       " ['KNeighborsClassifier', 7, 'euclidean'],\n",
       " ['KNeighborsClassifier', 7, 'manhattan'],\n",
       " ['KNeighborsClassifier', 7, 'chebyshev'],\n",
       " ['KNeighborsClassifier', 8, 'euclidean'],\n",
       " ['KNeighborsClassifier', 8, 'manhattan'],\n",
       " ['KNeighborsClassifier', 8, 'chebyshev'],\n",
       " ['KNeighborsClassifier', 9, 'euclidean'],\n",
       " ['KNeighborsClassifier', 9, 'manhattan'],\n",
       " ['KNeighborsClassifier', 9, 'chebyshev']]"
      ]
     },
<<<<<<< HEAD
     "execution_count": 8,
=======
     "execution_count": 34,
>>>>>>> 7b837112b772c75ea3fa3bf138fe198c5d88afb7
     "metadata": {},
     "output_type": "execute_result"
    }
   ],
   "source": [
    "print('\\tclassifier   neightbors  metric\\n')\n",
    "models_info"
   ]
  },
  {
   "cell_type": "markdown",
   "metadata": {},
   "source": [
    "### Example of learning and prediction"
   ]
  },
  {
   "cell_type": "code",
<<<<<<< HEAD
   "execution_count": 9,
=======
   "execution_count": 7,
>>>>>>> 7b837112b772c75ea3fa3bf138fe198c5d88afb7
   "metadata": {},
   "outputs": [
    {
     "name": "stdout",
     "output_type": "stream",
     "text": [
      "a( [5.1, 3.5, 1.4, 0.2] ) = ...\n"
     ]
    },
    {
     "data": {
      "text/plain": [
       "array([0])"
      ]
     },
<<<<<<< HEAD
     "execution_count": 9,
=======
     "execution_count": 7,
>>>>>>> 7b837112b772c75ea3fa3bf138fe198c5d88afb7
     "metadata": {},
     "output_type": "execute_result"
    }
   ],
   "source": [
    "x = [[5.1, 3.5, 1.4, 0.2]]\n",
    "print('a( %s ) = ...' % x[0])\n",
    "models[0].fit(X, Y).predict(x)"
   ]
  },
  {
   "cell_type": "markdown",
   "metadata": {},
   "source": [
    "### For these purpose we need write fit-predict strean"
   ]
  },
  {
   "cell_type": "code",
<<<<<<< HEAD
   "execution_count": 10,
=======
   "execution_count": 8,
>>>>>>> 7b837112b772c75ea3fa3bf138fe198c5d88afb7
   "metadata": {},
   "outputs": [],
   "source": [
    "def fit_predict(X, Y, x):\n",
    "    global models\n",
    "    return [model.fit(X, Y).predict(x) for model in models]"
   ]
  },
  {
   "cell_type": "markdown",
   "metadata": {},
   "source": [
    "### And we need validate models \n",
    "It is ability to learn"
   ]
  },
  {
   "cell_type": "code",
<<<<<<< HEAD
   "execution_count": 11,
=======
   "execution_count": 9,
>>>>>>> 7b837112b772c75ea3fa3bf138fe198c5d88afb7
   "metadata": {},
   "outputs": [
    {
     "name": "stdout",
     "output_type": "stream",
     "text": [
      "Result: we tested 27 models of 27\n"
     ]
    }
   ],
   "source": [
    "# Model validation\n",
    "x = [[5.1, 3.5, 1.4, 0.2]]\n",
    "print('Result: we tested %d models of %d' % (len(fit_predict(X, Y, x*3)),  len(models)) )"
   ]
  },
  {
   "cell_type": "markdown",
   "metadata": {},
   "source": [
    "# Making list of criterias"
   ]
  },
  {
   "cell_type": "markdown",
   "metadata": {},
   "source": [
    "### For validation spliting into train:test define function"
   ]
  },
  {
   "cell_type": "code",
<<<<<<< HEAD
   "execution_count": 12,
=======
   "execution_count": 171,
>>>>>>> 7b837112b772c75ea3fa3bf138fe198c5d88afb7
   "metadata": {},
   "outputs": [],
   "source": [
    "def three_d_split(l, r):\n",
    "    \"\"\"\n",
    "    Split to tuple of 3 lists : [0, l) [l,r) [r,n)\n",
    "    \"\"\"\n",
    "    a = {'X': X[0:l],  'Y': Y[0:l]}\n",
    "    b = {'X': X[l:r],  'Y': Y[l:r]}\n",
    "    c = {'X': X[r:],     'Y': Y[r:]}\n",
    "    return a, b, c\n",
    "\n",
    "def combine(a, c):\n",
    "    ax, cx = a['X'], c['X']\n",
    "    ay, cy = a['Y'], c['Y']\n",
    "    \n",
    "    combined = dict({'X': np.concatenate((ax, cx), axis=0), 'Y': np.concatenate((ay, cy), axis=0)})\n",
    "    return combined"
   ]
  },
  {
   "cell_type": "markdown",
   "metadata": {},
   "source": [
    "### Testing of 3d split"
   ]
  },
  {
   "cell_type": "code",
<<<<<<< HEAD
   "execution_count": 13,
=======
   "execution_count": 181,
>>>>>>> 7b837112b772c75ea3fa3bf138fe198c5d88afb7
   "metadata": {},
   "outputs": [
    {
     "name": "stdout",
     "output_type": "stream",
     "text": [
      "Starting test environment:\t\t X, Y, 10\n",
      "three_d_split(5, 7):\t\t\t 5 2 3 (5, 2, 3)\n",
      "three_d_split(3, 8):\t\t\t 3 5 2 (3, 5, 2)\n",
      "Ending test environment...\n"
     ]
    }
   ],
   "source": [
    "# Testing\n",
    "start_test_env(10)\n",
    "a, b, c = three_d_split(5, 7)\n",
    "a, b, c = a['X'], b['X'], c['X']\n",
    "print(\"three_d_split(5, 7):\\t\\t\\t\", len(a), len(b), len(c), (5, 2, 3))\n",
    "a, b, c = three_d_split(3, 8)\n",
    "a, b, c = a['X'], b['X'], c['X']\n",
    "print(\"three_d_split(3, 8):\\t\\t\\t\", len(a), len(b), len(c), (3, 5, 2))\n",
    "\n",
    "end_test_env()"
   ]
  },
  {
   "cell_type": "markdown",
   "metadata": {},
   "source": [
    "### Shuffle implementation"
   ]
  },
  {
   "cell_type": "code",
<<<<<<< HEAD
   "execution_count": 14,
=======
   "execution_count": 12,
>>>>>>> 7b837112b772c75ea3fa3bf138fe198c5d88afb7
   "metadata": {},
   "outputs": [],
   "source": [
    "# -- Pasted\n",
    "def __shuffle_int(n):\n",
    "    lst = [x for x in range(n)]\n",
    "    for _it in range(2*n):\n",
    "        i, j = randint(0, n-1), randint(0, n-1)\n",
    "        lst[i], lst[j] = lst[j], lst[i]\n",
    "    return lst\n",
    "\n",
    "def my_shuffle(lst):\n",
    "    size = len(lst)\n",
    "    if size == 0 or size==1:\n",
    "        return lst\n",
    "\n",
    "    indexes = __shuffle_int(size)\n",
    "    return [lst[i] for i in indexes]\n",
    "\n",
    "    \n",
    "def shuffle_XY():\n",
    "    combined = list(zip(X, Y))\n",
    "    shuffled = my_shuffle(combined)\n",
    "    X[:], Y[:] = zip(*shuffled)\n",
    "    return X, Y\n",
    "\n",
    "def q_from_size(size):\n",
    "    return ceil(l/size)"
   ]
  },
  {
   "cell_type": "markdown",
   "metadata": {},
   "source": [
    "### Generator definition"
   ]
  },
  {
   "cell_type": "code",
<<<<<<< HEAD
   "execution_count": 15,
=======
   "execution_count": 177,
>>>>>>> 7b837112b772c75ea3fa3bf138fe198c5d88afb7
   "metadata": {},
   "outputs": [],
   "source": [
    "# Bosses\n",
    "def generator_qfold(q):\n",
    "    size = ceil(l/q)\n",
    "    # q_it in [1, q]\n",
    "    for q_it in range(q):\n",
    "        a, b, c = three_d_split(q_it*size, max(q_it*(size+1), l) )\n",
    "        # print(a, '\\n', b, '\\n', c, '\\n\\n\\n')\n",
    "        yield combine(a, c), b\n",
    "\n",
    "def generator_bootstrap(t):\n",
    "    for _t in range(t):\n",
    "        size = randint(1, l-1)\n",
    "        index = randint(0, l-size)\n",
    "        \n",
    "        X, Y = shuffle_XY()\n",
    "        a, b, c = three_d_split(index, index+size)\n",
    "        yield combine(a, c), b\n",
    "            \n",
    "# Workes;)\n",
    "\n",
    "def generator_ccv():\n",
    "    for q in range(1, l):\n",
    "        for generated in generator_qfold(q):\n",
    "            yield generated\n",
    "            \n",
    "def generator_loo():\n",
    "    return generator_qfold(l)\n",
    "        \n",
    "def generator_txq(t, q):\n",
    "    for _t in range(t):\n",
    "        X, Y = shuffle_XY()\n",
    "        for generated in generator_qfold(q):\n",
    "            yield generated\n",
    "        \n",
    "def generator_randomcv(t):\n",
    "    for _t in range(t):        \n",
    "        size = randint(1, l-1)\n",
    "        q = int(l/size)\n",
    "        for generated in generator_qfold(q):\n",
    "            yield generated\n"
   ]
  },
  {
   "cell_type": "markdown",
   "metadata": {},
   "source": [
    "### Testing"
   ]
  },
  {
   "cell_type": "code",
<<<<<<< HEAD
   "execution_count": 16,
=======
   "execution_count": 149,
>>>>>>> 7b837112b772c75ea3fa3bf138fe198c5d88afb7
   "metadata": {},
   "outputs": [
    {
     "name": "stdout",
     "output_type": "stream",
     "text": [
      "Starting test environment:\t\t X, Y, 10\n",
      "three_d_split :\t\t\t\t (5, 7) \t (5, 2, 3) \t -> (5, 2, 3)\n",
      "Ending test environment...\n"
     ]
    }
   ],
   "source": [
    "# Testing\n",
    "start_test_env(10)\n",
    "q = 2\n",
    "t = 4\n",
    "a, b, c = three_d_split(5, 7)\n",
    "a, b, c = a['X'], b['X'], c['X']\n",
    "testify('three_d_split', (5, 7), (len(a), len(b), len(c)), (5, 2, 3) )\n",
    "end_test_env()"
   ]
  },
  {
   "cell_type": "code",
<<<<<<< HEAD
   "execution_count": 17,
   "metadata": {},
=======
   "execution_count": 182,
   "metadata": {
    "scrolled": false
   },
>>>>>>> 7b837112b772c75ea3fa3bf138fe198c5d88afb7
   "outputs": [
    {
     "name": "stdout",
     "output_type": "stream",
     "text": [
<<<<<<< HEAD
      "Starting test environment:\t\t X, Y, 10\n"
     ]
    },
    {
     "ename": "NameError",
     "evalue": "name '_generator_ccv' is not defined",
     "output_type": "error",
     "traceback": [
      "\u001b[1;31m---------------------------------------------------------------------------\u001b[0m",
      "\u001b[1;31mNameError\u001b[0m                                 Traceback (most recent call last)",
      "\u001b[1;32m<ipython-input-17-de31ab174f5e>\u001b[0m in \u001b[0;36m<module>\u001b[1;34m\u001b[0m\n\u001b[0;32m     32\u001b[0m \u001b[1;31m# print_first(generator_txq(t, q), 12)\u001b[0m\u001b[1;33m\u001b[0m\u001b[1;33m\u001b[0m\u001b[1;33m\u001b[0m\u001b[0m\n\u001b[0;32m     33\u001b[0m \u001b[1;33m\u001b[0m\u001b[0m\n\u001b[1;32m---> 34\u001b[1;33m \u001b[0mtestify\u001b[0m\u001b[1;33m(\u001b[0m\u001b[1;34m'gen_ccv'\u001b[0m\u001b[1;33m,\u001b[0m \u001b[1;33m(\u001b[0m\u001b[1;33m)\u001b[0m\u001b[1;33m,\u001b[0m \u001b[0mlen\u001b[0m\u001b[1;33m(\u001b[0m\u001b[1;33m[\u001b[0m\u001b[0mx\u001b[0m \u001b[1;32mfor\u001b[0m \u001b[0mx\u001b[0m \u001b[1;32min\u001b[0m \u001b[0m_generator_ccv\u001b[0m\u001b[1;33m]\u001b[0m\u001b[1;33m)\u001b[0m\u001b[1;33m,\u001b[0m \u001b[1;36m2\u001b[0m\u001b[1;33m**\u001b[0m\u001b[1;33m(\u001b[0m\u001b[0ml\u001b[0m\u001b[1;33m-\u001b[0m\u001b[1;36m2\u001b[0m\u001b[1;33m)\u001b[0m\u001b[1;33m-\u001b[0m\u001b[1;36m2\u001b[0m\u001b[1;33m*\u001b[0m\u001b[0ml\u001b[0m\u001b[1;33m)\u001b[0m\u001b[1;33m\u001b[0m\u001b[1;33m\u001b[0m\u001b[0m\n\u001b[0m\u001b[0;32m     35\u001b[0m \u001b[0mtestify\u001b[0m\u001b[1;33m(\u001b[0m\u001b[1;34m'gen_qfold'\u001b[0m\u001b[1;33m,\u001b[0m \u001b[1;33m(\u001b[0m\u001b[1;33m)\u001b[0m\u001b[1;33m,\u001b[0m \u001b[0mlen\u001b[0m\u001b[1;33m(\u001b[0m\u001b[1;33m[\u001b[0m\u001b[0mx\u001b[0m \u001b[1;32mfor\u001b[0m \u001b[0mx\u001b[0m \u001b[1;32min\u001b[0m \u001b[0m_generator_qfold\u001b[0m\u001b[1;33m]\u001b[0m\u001b[1;33m)\u001b[0m\u001b[1;33m,\u001b[0m \u001b[0mq\u001b[0m\u001b[1;33m)\u001b[0m\u001b[1;33m\u001b[0m\u001b[1;33m\u001b[0m\u001b[0m\n\u001b[0;32m     36\u001b[0m \u001b[0mtestify\u001b[0m\u001b[1;33m(\u001b[0m\u001b[1;34m'gen_bootstrap'\u001b[0m\u001b[1;33m,\u001b[0m \u001b[1;33m(\u001b[0m\u001b[1;33m)\u001b[0m\u001b[1;33m,\u001b[0m \u001b[0mlen\u001b[0m\u001b[1;33m(\u001b[0m\u001b[1;33m[\u001b[0m\u001b[0mx\u001b[0m \u001b[1;32mfor\u001b[0m \u001b[0mx\u001b[0m \u001b[1;32min\u001b[0m \u001b[0m_generator_bootstrap\u001b[0m\u001b[1;33m]\u001b[0m\u001b[1;33m)\u001b[0m\u001b[1;33m,\u001b[0m \u001b[0mt\u001b[0m\u001b[1;33m)\u001b[0m\u001b[1;33m\u001b[0m\u001b[1;33m\u001b[0m\u001b[0m\n",
      "\u001b[1;31mNameError\u001b[0m: name '_generator_ccv' is not defined"
=======
      "Starting test environment:\t\t X, Y, 10\n",
      "gen_ccv :\t\t\t\t () \t 45 \t -> 236\n",
      "gen_qfold :\t\t\t\t () \t 4 \t -> 4\n",
      "gen_bootstrap :\t\t\t\t () \t 3 \t -> 3\n",
      "gen_loo :\t\t\t\t () \t 10 \t -> 10\n",
      "gen_txq :\t\t\t\t () \t 12 \t -> 12\n",
      "gen_randomcv :\t\t\t\t () \t 0 \t -> \n",
      "Ending test environment...\n"
>>>>>>> 7b837112b772c75ea3fa3bf138fe198c5d88afb7
     ]
    }
   ],
   "source": [
    "X =np.arange(500).reshape(100, 5)\n",
    "# print(X)\n",
    "start_test_env(10)\n",
    "t=3\n",
    "q=4\n",
    "\n",
    "def generators_reinit():\n",
    "    global generators, generators_info\n",
    "    _generator_qfold = generator_qfold(q)\n",
    "    _generator_ccv = generator_ccv()\n",
    "    _generator_bootstrap = generator_bootstrap(t)\n",
    "    _generator_loo = generator_loo()\n",
    "    _generator_txq = generator_txq(t, q)\n",
    "    _generator_randomcv = generator_randomcv(t)\n",
<<<<<<< HEAD
    "    generators = [_generator_qfold , _generator_ccv,\n",
    "                  _generator_bootstrap, _generator_loo,\n",
    "                  _generator_txq, _generator_randomcv]\n",
    "    generators_info = [['qfold'], ['CCV'], \n",
    "                       ['bootstrap'], ['LOO'], \n",
    "                       ['txqfold'], ['random CV'] ]\n",
    "    \n",
=======
    "    \n",
    "    generators = [_generator_qfold, _generator_ccv, \n",
    "                  _generator_bootstrap, _generator_loo, \n",
    "                  _generator_txq, _generator_randomcv]\n",
    "    generators_info = [['qfold'], ['Complete CV'], \n",
    "                       ['bootstrap'], ['LOO'],\n",
    "                       ['txq'], ['random CV']]\n",
    "    \n",
    "generators_reinit()\n",
    "\n",
>>>>>>> 7b837112b772c75ea3fa3bf138fe198c5d88afb7
    "_generator_qfold = generator_qfold(q)\n",
    "_generator_ccv = generator_ccv()\n",
    "_generator_bootstrap = generator_bootstrap(t)\n",
    "_generator_loo = generator_loo()\n",
    "_generator_txq = generator_txq(t, q)\n",
<<<<<<< HEAD
    "_generator_randomcv = generator_randomcv(t)\n",
    "\n",
    "generators_reinit()\n",
=======
>>>>>>> 7b837112b772c75ea3fa3bf138fe198c5d88afb7
    "\n",
    "def print_first(g, n):\n",
    "    for _i in range(n):\n",
    "        for a in g:\n",
    "            ax, ay = a[0]['X'], a[0]['Y']\n",
    "            print(ax)\n",
    "            ax, ay = a[1]['X'], a[1]['Y']\n",
    "            print(ax, '\\n\\n')\n",
    "            print(X)\n",
    "        \n",
    "# print_first(_generator_loo, 4)\n",
    "\n",
    "# print_first(generator_txq(t, q), 12)\n",
    "\n",
    "testify('gen_ccv', (), len([x for x in _generator_ccv]), 2**(l-2)-2*l)\n",
    "testify('gen_qfold', (), len([x for x in _generator_qfold]), q)\n",
    "testify('gen_bootstrap', (), len([x for x in _generator_bootstrap]), t)\n",
    "testify('gen_loo', (), len([x for x in _generator_loo]), l)\n",
    "testify('gen_txq', (), len([x for x in _generator_txq]), t*q)\n",
    "testify('gen_randomcv', (), len([x for x in _generator_randomcv]), )\n",
    "\n",
<<<<<<< HEAD
    "end_test_env()"
   ]
  },
  {
   "cell_type": "markdown",
   "metadata": {},
   "source": [
    "# Learning"
=======
    "end_test_env()\n"
>>>>>>> 7b837112b772c75ea3fa3bf138fe198c5d88afb7
   ]
  },
  {
   "cell_type": "code",
<<<<<<< HEAD
   "execution_count": null,
=======
   "execution_count": 97,
>>>>>>> 7b837112b772c75ea3fa3bf138fe198c5d88afb7
   "metadata": {},
   "outputs": [],
   "source": [
    "class Method:\n",
    "    def __init__(self, model, generator):\n",
    "        self.model = model\n",
    "        self.generator = generator\n",
    "        \n",
    "    def fit_predict(self):\n",
    "        for generated in self.generator:\n",
    "            g = generated\n",
    "            ax, ay = g[0]['X'], g[0]['Y']\n",
    "            bx, by = g[1]['X'], g[1]['Y']\n",
    "            yield self.__fit_predict(self.model, ax, ay, bx), by\n",
    "    \n",
<<<<<<< HEAD
    "    def fit_predict_count(self, generator=''):\n",
    "        if generator:\n",
    "            self.generator = generator\n",
=======
    "    def fit_predict_count(self):\n",
>>>>>>> 7b837112b772c75ea3fa3bf138fe198c5d88afb7
    "        res = 0.0\n",
    "        times = 0\n",
    "        for _y, y in self.fit_predict():\n",
    "            sum = 0\n",
    "            num = 0\n",
    "            for _el, el in zip(_y, y):\n",
    "                if(_el == el):\n",
    "                    sum += 1\n",
    "                num += 1\n",
    "            sum /= num\n",
    "            times += 1\n",
    "            res += sum\n",
    "        res /= times        \n",
    "        return 1.0-res\n",
    "    \n",
    "    @staticmethod\n",
    "    def __fit_predict(model, X, Y, x):\n",
    "        return model.fit(X, Y).predict(x)"
   ]
  },
  {
   "cell_type": "markdown",
   "metadata": {},
   "source": [
    "### for table display"
   ]
  },
  {
   "cell_type": "code",
<<<<<<< HEAD
   "execution_count": null,
   "metadata": {},
   "outputs": [],
   "source": [
    "start_env()\n",
    "method = Method(models[15], generator_qfold(q))\n",
=======
   "execution_count": 108,
   "metadata": {},
   "outputs": [],
   "source": [
    "def print_table(data):\n",
    "    display(HTML(\n",
    "       '<table><tr>{}</tr></table>'.format(\n",
    "           '</tr><tr>'.join(\n",
    "               '<td>{}</td>'.format('</td><td>'.join(str(_) for _ in row)) for row in data)\n",
    "           )\n",
    "    ))"
   ]
  },
  {
   "cell_type": "markdown",
   "metadata": {},
   "source": [
    "# Learning"
   ]
  },
  {
   "cell_type": "code",
   "execution_count": 178,
   "metadata": {},
   "outputs": [
    {
     "data": {
      "text/html": [
       "<table><tr><td>KNeighborsClassifier</td><td>1</td><td>euclidean</td><td>qfold</td><td>-1</td></tr><tr><td>KNeighborsClassifier</td><td>1</td><td>euclidean</td><td>Complete CV</td><td>-1</td></tr><tr><td>KNeighborsClassifier</td><td>1</td><td>euclidean</td><td>bootstrap</td><td>0.6714883407456156</td></tr><tr><td>KNeighborsClassifier</td><td>1</td><td>euclidean</td><td>LOO</td><td>-1</td></tr><tr><td>KNeighborsClassifier</td><td>1</td><td>euclidean</td><td>txq</td><td>-1</td></tr><tr><td>KNeighborsClassifier</td><td>1</td><td>euclidean</td><td>random CV</td><td>-1</td></tr><tr><td>KNeighborsClassifier</td><td>1</td><td>manhattan</td><td>qfold</td><td>-1</td></tr><tr><td>KNeighborsClassifier</td><td>1</td><td>manhattan</td><td>Complete CV</td><td>-1</td></tr><tr><td>KNeighborsClassifier</td><td>1</td><td>manhattan</td><td>bootstrap</td><td>0.6713947990543736</td></tr><tr><td>KNeighborsClassifier</td><td>1</td><td>manhattan</td><td>LOO</td><td>-1</td></tr><tr><td>KNeighborsClassifier</td><td>1</td><td>manhattan</td><td>txq</td><td>-1</td></tr><tr><td>KNeighborsClassifier</td><td>1</td><td>manhattan</td><td>random CV</td><td>-1</td></tr><tr><td>KNeighborsClassifier</td><td>1</td><td>chebyshev</td><td>qfold</td><td>-1</td></tr><tr><td>KNeighborsClassifier</td><td>1</td><td>chebyshev</td><td>Complete CV</td><td>-1</td></tr><tr><td>KNeighborsClassifier</td><td>1</td><td>chebyshev</td><td>bootstrap</td><td>0.6753316461035537</td></tr><tr><td>KNeighborsClassifier</td><td>1</td><td>chebyshev</td><td>LOO</td><td>-1</td></tr><tr><td>KNeighborsClassifier</td><td>1</td><td>chebyshev</td><td>txq</td><td>-1</td></tr><tr><td>KNeighborsClassifier</td><td>1</td><td>chebyshev</td><td>random CV</td><td>-1</td></tr><tr><td>KNeighborsClassifier</td><td>2</td><td>euclidean</td><td>qfold</td><td>-1</td></tr><tr><td>KNeighborsClassifier</td><td>2</td><td>euclidean</td><td>Complete CV</td><td>-1</td></tr><tr><td>KNeighborsClassifier</td><td>2</td><td>euclidean</td><td>bootstrap</td><td>0.625006219833806</td></tr><tr><td>KNeighborsClassifier</td><td>2</td><td>euclidean</td><td>LOO</td><td>-1</td></tr><tr><td>KNeighborsClassifier</td><td>2</td><td>euclidean</td><td>txq</td><td>-1</td></tr><tr><td>KNeighborsClassifier</td><td>2</td><td>euclidean</td><td>random CV</td><td>-1</td></tr><tr><td>KNeighborsClassifier</td><td>2</td><td>manhattan</td><td>qfold</td><td>-1</td></tr><tr><td>KNeighborsClassifier</td><td>2</td><td>manhattan</td><td>Complete CV</td><td>-1</td></tr><tr><td>KNeighborsClassifier</td><td>2</td><td>manhattan</td><td>bootstrap</td><td>0.665796857463524</td></tr><tr><td>KNeighborsClassifier</td><td>2</td><td>manhattan</td><td>LOO</td><td>-1</td></tr><tr><td>KNeighborsClassifier</td><td>2</td><td>manhattan</td><td>txq</td><td>-1</td></tr><tr><td>KNeighborsClassifier</td><td>2</td><td>manhattan</td><td>random CV</td><td>-1</td></tr><tr><td>KNeighborsClassifier</td><td>2</td><td>chebyshev</td><td>qfold</td><td>-1</td></tr><tr><td>KNeighborsClassifier</td><td>2</td><td>chebyshev</td><td>Complete CV</td><td>-1</td></tr><tr><td>KNeighborsClassifier</td><td>2</td><td>chebyshev</td><td>bootstrap</td><td>0.7813793474170833</td></tr><tr><td>KNeighborsClassifier</td><td>2</td><td>chebyshev</td><td>LOO</td><td>-1</td></tr><tr><td>KNeighborsClassifier</td><td>2</td><td>chebyshev</td><td>txq</td><td>-1</td></tr><tr><td>KNeighborsClassifier</td><td>2</td><td>chebyshev</td><td>random CV</td><td>-1</td></tr><tr><td>KNeighborsClassifier</td><td>3</td><td>euclidean</td><td>qfold</td><td>-1</td></tr><tr><td>KNeighborsClassifier</td><td>3</td><td>euclidean</td><td>Complete CV</td><td>-1</td></tr><tr><td>KNeighborsClassifier</td><td>3</td><td>euclidean</td><td>bootstrap</td><td>0.6665199331798275</td></tr><tr><td>KNeighborsClassifier</td><td>3</td><td>euclidean</td><td>LOO</td><td>-1</td></tr><tr><td>KNeighborsClassifier</td><td>3</td><td>euclidean</td><td>txq</td><td>-1</td></tr><tr><td>KNeighborsClassifier</td><td>3</td><td>euclidean</td><td>random CV</td><td>-1</td></tr><tr><td>KNeighborsClassifier</td><td>3</td><td>manhattan</td><td>qfold</td><td>-1</td></tr><tr><td>KNeighborsClassifier</td><td>3</td><td>manhattan</td><td>Complete CV</td><td>-1</td></tr><tr><td>KNeighborsClassifier</td><td>3</td><td>manhattan</td><td>bootstrap</td><td>-1</td></tr><tr><td>KNeighborsClassifier</td><td>3</td><td>manhattan</td><td>LOO</td><td>-1</td></tr><tr><td>KNeighborsClassifier</td><td>3</td><td>manhattan</td><td>txq</td><td>-1</td></tr><tr><td>KNeighborsClassifier</td><td>3</td><td>manhattan</td><td>random CV</td><td>-1</td></tr><tr><td>KNeighborsClassifier</td><td>3</td><td>chebyshev</td><td>qfold</td><td>-1</td></tr><tr><td>KNeighborsClassifier</td><td>3</td><td>chebyshev</td><td>Complete CV</td><td>-1</td></tr><tr><td>KNeighborsClassifier</td><td>3</td><td>chebyshev</td><td>bootstrap</td><td>0.642705713259073</td></tr><tr><td>KNeighborsClassifier</td><td>3</td><td>chebyshev</td><td>LOO</td><td>-1</td></tr><tr><td>KNeighborsClassifier</td><td>3</td><td>chebyshev</td><td>txq</td><td>-1</td></tr><tr><td>KNeighborsClassifier</td><td>3</td><td>chebyshev</td><td>random CV</td><td>-1</td></tr><tr><td>KNeighborsClassifier</td><td>4</td><td>euclidean</td><td>qfold</td><td>-1</td></tr><tr><td>KNeighborsClassifier</td><td>4</td><td>euclidean</td><td>Complete CV</td><td>-1</td></tr><tr><td>KNeighborsClassifier</td><td>4</td><td>euclidean</td><td>bootstrap</td><td>0.6705525486230892</td></tr><tr><td>KNeighborsClassifier</td><td>4</td><td>euclidean</td><td>LOO</td><td>-1</td></tr><tr><td>KNeighborsClassifier</td><td>4</td><td>euclidean</td><td>txq</td><td>-1</td></tr><tr><td>KNeighborsClassifier</td><td>4</td><td>euclidean</td><td>random CV</td><td>-1</td></tr><tr><td>KNeighborsClassifier</td><td>4</td><td>manhattan</td><td>qfold</td><td>-1</td></tr><tr><td>KNeighborsClassifier</td><td>4</td><td>manhattan</td><td>Complete CV</td><td>-1</td></tr><tr><td>KNeighborsClassifier</td><td>4</td><td>manhattan</td><td>bootstrap</td><td>0.6688019013724273</td></tr><tr><td>KNeighborsClassifier</td><td>4</td><td>manhattan</td><td>LOO</td><td>-1</td></tr><tr><td>KNeighborsClassifier</td><td>4</td><td>manhattan</td><td>txq</td><td>-1</td></tr><tr><td>KNeighborsClassifier</td><td>4</td><td>manhattan</td><td>random CV</td><td>-1</td></tr><tr><td>KNeighborsClassifier</td><td>4</td><td>chebyshev</td><td>qfold</td><td>-1</td></tr><tr><td>KNeighborsClassifier</td><td>4</td><td>chebyshev</td><td>Complete CV</td><td>-1</td></tr><tr><td>KNeighborsClassifier</td><td>4</td><td>chebyshev</td><td>bootstrap</td><td>0.6495854063018243</td></tr><tr><td>KNeighborsClassifier</td><td>4</td><td>chebyshev</td><td>LOO</td><td>-1</td></tr><tr><td>KNeighborsClassifier</td><td>4</td><td>chebyshev</td><td>txq</td><td>-1</td></tr><tr><td>KNeighborsClassifier</td><td>4</td><td>chebyshev</td><td>random CV</td><td>-1</td></tr><tr><td>KNeighborsClassifier</td><td>5</td><td>euclidean</td><td>qfold</td><td>-1</td></tr><tr><td>KNeighborsClassifier</td><td>5</td><td>euclidean</td><td>Complete CV</td><td>-1</td></tr><tr><td>KNeighborsClassifier</td><td>5</td><td>euclidean</td><td>bootstrap</td><td>0.5672348484848484</td></tr><tr><td>KNeighborsClassifier</td><td>5</td><td>euclidean</td><td>LOO</td><td>-1</td></tr><tr><td>KNeighborsClassifier</td><td>5</td><td>euclidean</td><td>txq</td><td>-1</td></tr><tr><td>KNeighborsClassifier</td><td>5</td><td>euclidean</td><td>random CV</td><td>-1</td></tr><tr><td>KNeighborsClassifier</td><td>5</td><td>manhattan</td><td>qfold</td><td>-1</td></tr><tr><td>KNeighborsClassifier</td><td>5</td><td>manhattan</td><td>Complete CV</td><td>-1</td></tr><tr><td>KNeighborsClassifier</td><td>5</td><td>manhattan</td><td>bootstrap</td><td>-1</td></tr><tr><td>KNeighborsClassifier</td><td>5</td><td>manhattan</td><td>LOO</td><td>-1</td></tr><tr><td>KNeighborsClassifier</td><td>5</td><td>manhattan</td><td>txq</td><td>-1</td></tr><tr><td>KNeighborsClassifier</td><td>5</td><td>manhattan</td><td>random CV</td><td>-1</td></tr><tr><td>KNeighborsClassifier</td><td>5</td><td>chebyshev</td><td>qfold</td><td>-1</td></tr><tr><td>KNeighborsClassifier</td><td>5</td><td>chebyshev</td><td>Complete CV</td><td>-1</td></tr><tr><td>KNeighborsClassifier</td><td>5</td><td>chebyshev</td><td>bootstrap</td><td>0.6826210826210826</td></tr><tr><td>KNeighborsClassifier</td><td>5</td><td>chebyshev</td><td>LOO</td><td>-1</td></tr><tr><td>KNeighborsClassifier</td><td>5</td><td>chebyshev</td><td>txq</td><td>-1</td></tr><tr><td>KNeighborsClassifier</td><td>5</td><td>chebyshev</td><td>random CV</td><td>-1</td></tr><tr><td>KNeighborsClassifier</td><td>6</td><td>euclidean</td><td>qfold</td><td>-1</td></tr><tr><td>KNeighborsClassifier</td><td>6</td><td>euclidean</td><td>Complete CV</td><td>-1</td></tr><tr><td>KNeighborsClassifier</td><td>6</td><td>euclidean</td><td>bootstrap</td><td>0.6863250404731225</td></tr><tr><td>KNeighborsClassifier</td><td>6</td><td>euclidean</td><td>LOO</td><td>-1</td></tr><tr><td>KNeighborsClassifier</td><td>6</td><td>euclidean</td><td>txq</td><td>-1</td></tr><tr><td>KNeighborsClassifier</td><td>6</td><td>euclidean</td><td>random CV</td><td>-1</td></tr><tr><td>KNeighborsClassifier</td><td>6</td><td>manhattan</td><td>qfold</td><td>-1</td></tr><tr><td>KNeighborsClassifier</td><td>6</td><td>manhattan</td><td>Complete CV</td><td>-1</td></tr><tr><td>KNeighborsClassifier</td><td>6</td><td>manhattan</td><td>bootstrap</td><td>0.6949058285507399</td></tr><tr><td>KNeighborsClassifier</td><td>6</td><td>manhattan</td><td>LOO</td><td>-1</td></tr><tr><td>KNeighborsClassifier</td><td>6</td><td>manhattan</td><td>txq</td><td>-1</td></tr><tr><td>KNeighborsClassifier</td><td>6</td><td>manhattan</td><td>random CV</td><td>-1</td></tr><tr><td>KNeighborsClassifier</td><td>6</td><td>chebyshev</td><td>qfold</td><td>-1</td></tr><tr><td>KNeighborsClassifier</td><td>6</td><td>chebyshev</td><td>Complete CV</td><td>-1</td></tr><tr><td>KNeighborsClassifier</td><td>6</td><td>chebyshev</td><td>bootstrap</td><td>0.6757246376811594</td></tr><tr><td>KNeighborsClassifier</td><td>6</td><td>chebyshev</td><td>LOO</td><td>-1</td></tr><tr><td>KNeighborsClassifier</td><td>6</td><td>chebyshev</td><td>txq</td><td>-1</td></tr><tr><td>KNeighborsClassifier</td><td>6</td><td>chebyshev</td><td>random CV</td><td>-1</td></tr><tr><td>KNeighborsClassifier</td><td>7</td><td>euclidean</td><td>qfold</td><td>-1</td></tr><tr><td>KNeighborsClassifier</td><td>7</td><td>euclidean</td><td>Complete CV</td><td>-1</td></tr><tr><td>KNeighborsClassifier</td><td>7</td><td>euclidean</td><td>bootstrap</td><td>0.693601012874212</td></tr><tr><td>KNeighborsClassifier</td><td>7</td><td>euclidean</td><td>LOO</td><td>-1</td></tr><tr><td>KNeighborsClassifier</td><td>7</td><td>euclidean</td><td>txq</td><td>-1</td></tr><tr><td>KNeighborsClassifier</td><td>7</td><td>euclidean</td><td>random CV</td><td>-1</td></tr><tr><td>KNeighborsClassifier</td><td>7</td><td>manhattan</td><td>qfold</td><td>-1</td></tr><tr><td>KNeighborsClassifier</td><td>7</td><td>manhattan</td><td>Complete CV</td><td>-1</td></tr><tr><td>KNeighborsClassifier</td><td>7</td><td>manhattan</td><td>bootstrap</td><td>0.6729261729261728</td></tr><tr><td>KNeighborsClassifier</td><td>7</td><td>manhattan</td><td>LOO</td><td>-1</td></tr><tr><td>KNeighborsClassifier</td><td>7</td><td>manhattan</td><td>txq</td><td>-1</td></tr><tr><td>KNeighborsClassifier</td><td>7</td><td>manhattan</td><td>random CV</td><td>-1</td></tr><tr><td>KNeighborsClassifier</td><td>7</td><td>chebyshev</td><td>qfold</td><td>-1</td></tr><tr><td>KNeighborsClassifier</td><td>7</td><td>chebyshev</td><td>Complete CV</td><td>-1</td></tr><tr><td>KNeighborsClassifier</td><td>7</td><td>chebyshev</td><td>bootstrap</td><td>0.75</td></tr><tr><td>KNeighborsClassifier</td><td>7</td><td>chebyshev</td><td>LOO</td><td>-1</td></tr><tr><td>KNeighborsClassifier</td><td>7</td><td>chebyshev</td><td>txq</td><td>-1</td></tr><tr><td>KNeighborsClassifier</td><td>7</td><td>chebyshev</td><td>random CV</td><td>-1</td></tr><tr><td>KNeighborsClassifier</td><td>8</td><td>euclidean</td><td>qfold</td><td>-1</td></tr><tr><td>KNeighborsClassifier</td><td>8</td><td>euclidean</td><td>Complete CV</td><td>-1</td></tr><tr><td>KNeighborsClassifier</td><td>8</td><td>euclidean</td><td>bootstrap</td><td>0.6732420108524848</td></tr><tr><td>KNeighborsClassifier</td><td>8</td><td>euclidean</td><td>LOO</td><td>-1</td></tr><tr><td>KNeighborsClassifier</td><td>8</td><td>euclidean</td><td>txq</td><td>-1</td></tr><tr><td>KNeighborsClassifier</td><td>8</td><td>euclidean</td><td>random CV</td><td>-1</td></tr><tr><td>KNeighborsClassifier</td><td>8</td><td>manhattan</td><td>qfold</td><td>-1</td></tr><tr><td>KNeighborsClassifier</td><td>8</td><td>manhattan</td><td>Complete CV</td><td>-1</td></tr><tr><td>KNeighborsClassifier</td><td>8</td><td>manhattan</td><td>bootstrap</td><td>0.7056408672897788</td></tr><tr><td>KNeighborsClassifier</td><td>8</td><td>manhattan</td><td>LOO</td><td>-1</td></tr><tr><td>KNeighborsClassifier</td><td>8</td><td>manhattan</td><td>txq</td><td>-1</td></tr><tr><td>KNeighborsClassifier</td><td>8</td><td>manhattan</td><td>random CV</td><td>-1</td></tr><tr><td>KNeighborsClassifier</td><td>8</td><td>chebyshev</td><td>qfold</td><td>-1</td></tr><tr><td>KNeighborsClassifier</td><td>8</td><td>chebyshev</td><td>Complete CV</td><td>-1</td></tr><tr><td>KNeighborsClassifier</td><td>8</td><td>chebyshev</td><td>bootstrap</td><td>0.6856609574000878</td></tr><tr><td>KNeighborsClassifier</td><td>8</td><td>chebyshev</td><td>LOO</td><td>-1</td></tr><tr><td>KNeighborsClassifier</td><td>8</td><td>chebyshev</td><td>txq</td><td>-1</td></tr><tr><td>KNeighborsClassifier</td><td>8</td><td>chebyshev</td><td>random CV</td><td>-1</td></tr><tr><td>KNeighborsClassifier</td><td>9</td><td>euclidean</td><td>qfold</td><td>-1</td></tr><tr><td>KNeighborsClassifier</td><td>9</td><td>euclidean</td><td>Complete CV</td><td>-1</td></tr><tr><td>KNeighborsClassifier</td><td>9</td><td>euclidean</td><td>bootstrap</td><td>0.6738511162040575</td></tr><tr><td>KNeighborsClassifier</td><td>9</td><td>euclidean</td><td>LOO</td><td>-1</td></tr><tr><td>KNeighborsClassifier</td><td>9</td><td>euclidean</td><td>txq</td><td>-1</td></tr><tr><td>KNeighborsClassifier</td><td>9</td><td>euclidean</td><td>random CV</td><td>-1</td></tr><tr><td>KNeighborsClassifier</td><td>9</td><td>manhattan</td><td>qfold</td><td>-1</td></tr><tr><td>KNeighborsClassifier</td><td>9</td><td>manhattan</td><td>Complete CV</td><td>-1</td></tr><tr><td>KNeighborsClassifier</td><td>9</td><td>manhattan</td><td>bootstrap</td><td>0.7171922862712337</td></tr><tr><td>KNeighborsClassifier</td><td>9</td><td>manhattan</td><td>LOO</td><td>-1</td></tr><tr><td>KNeighborsClassifier</td><td>9</td><td>manhattan</td><td>txq</td><td>-1</td></tr><tr><td>KNeighborsClassifier</td><td>9</td><td>manhattan</td><td>random CV</td><td>-1</td></tr><tr><td>KNeighborsClassifier</td><td>9</td><td>chebyshev</td><td>qfold</td><td>-1</td></tr><tr><td>KNeighborsClassifier</td><td>9</td><td>chebyshev</td><td>Complete CV</td><td>-1</td></tr><tr><td>KNeighborsClassifier</td><td>9</td><td>chebyshev</td><td>bootstrap</td><td>0.6349206349206349</td></tr><tr><td>KNeighborsClassifier</td><td>9</td><td>chebyshev</td><td>LOO</td><td>-1</td></tr><tr><td>KNeighborsClassifier</td><td>9</td><td>chebyshev</td><td>txq</td><td>-1</td></tr><tr><td>KNeighborsClassifier</td><td>9</td><td>chebyshev</td><td>random CV</td><td>-1</td></tr></table>"
      ],
      "text/plain": [
       "<IPython.core.display.HTML object>"
      ]
     },
     "metadata": {},
     "output_type": "display_data"
    },
    {
     "name": "stdout",
     "output_type": "stream",
     "text": [
      "Ending test environment...\n"
     ]
    }
   ],
   "source": [
    "start_env()\n",
    "generators_reinit()\n",
    "method = Method(models[20], generator_qfold(q))\n",
>>>>>>> 7b837112b772c75ea3fa3bf138fe198c5d88afb7
    "\n",
    "data = []\n",
    "for m, mi in zip(models, range(len(models))):\n",
    "    generators_reinit()\n",
<<<<<<< HEAD
    "    for g, gi in zip(models, range(len(generators))):\n",
    "        method = Method(m, g)\n",
    "        data += models_info[mi] + generators_info[mi] + [method.fit_predict_count()]\n",
    "        \n",
=======
    "    for g, gi in zip(generators, range(len(generators))):\n",
    "        method = Method(m, g)\n",
    "        try:\n",
    "            val = method.fit_predict_count()\n",
    "        except:\n",
    "            val = -1\n",
    "        data += [models_info[mi] + generators_info[gi] + [str(val)]]\n",
    "\n",
    "print_table(data)\n",
>>>>>>> 7b837112b772c75ea3fa3bf138fe198c5d88afb7
    "\n",
    "end_test_env()"
   ]
  }
 ],
 "metadata": {
  "kernelspec": {
   "display_name": "Python 3",
   "language": "python",
   "name": "python3"
  },
  "language_info": {
   "codemirror_mode": {
    "name": "ipython",
    "version": 3
   },
   "file_extension": ".py",
   "mimetype": "text/x-python",
   "name": "python",
   "nbconvert_exporter": "python",
   "pygments_lexer": "ipython3",
   "version": "3.6.7"
  }
 },
 "nbformat": 4,
 "nbformat_minor": 2
}
